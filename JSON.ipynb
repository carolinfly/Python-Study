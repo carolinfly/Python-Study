{
 "cells": [
  {
   "cell_type": "markdown",
   "metadata": {},
   "source": [
    "json"
   ]
  },
  {
   "cell_type": "code",
   "execution_count": 1,
   "metadata": {
    "collapsed": true
   },
   "outputs": [],
   "source": [
    "# create a dictionary\n",
    "book = {}"
   ]
  },
  {
   "cell_type": "code",
   "execution_count": 2,
   "metadata": {
    "collapsed": true
   },
   "outputs": [],
   "source": [
    "# add value\n",
    "book['tom'] = {\n",
    "    'name': 'tom',\n",
    "    'address': '1 red street, NY',\n",
    "    'phone': 98989898\n",
    "}"
   ]
  },
  {
   "cell_type": "code",
   "execution_count": 4,
   "metadata": {
    "collapsed": true
   },
   "outputs": [],
   "source": [
    "book['bob'] = {\n",
    "    'name': 'bob',\n",
    "    'address': '1 green street, NY',\n",
    "    'phone': 23424234\n",
    "}"
   ]
  },
  {
   "cell_type": "code",
   "execution_count": 5,
   "metadata": {
    "collapsed": true
   },
   "outputs": [],
   "source": [
    "# import json module\n",
    "import json"
   ]
  },
  {
   "cell_type": "code",
   "execution_count": 7,
   "metadata": {
    "collapsed": false
   },
   "outputs": [
    {
     "name": "stdout",
     "output_type": "stream",
     "text": [
      "{\"bob\": {\"address\": \"1 green street, NY\", \"name\": \"bob\", \"phone\": 23424234}, \"tom\": {\"address\": \"1 red street, NY\", \"name\": \"tom\", \"phone\": 98989898}}\n"
     ]
    }
   ],
   "source": [
    "# give name to the method\n",
    "# take dictionary object book as an imput, dumps as a string (string s), the string s is converted to json format (in separated keys and values)\n",
    "s = json.dumps(book)\n",
    "print(s)"
   ]
  },
  {
   "cell_type": "code",
   "execution_count": 8,
   "metadata": {
    "collapsed": true
   },
   "outputs": [],
   "source": [
    "# write the json script in a file\n",
    "with open(\"C:\\\\Users\\\\Shimeng Lin\\\\Desktop\\\\Fordham\\\\Spring 2017\\\\United Nations Cybersecurity Research Project\\\\book.txt\",'w')as f:\n",
    "    f.write(s)\n",
    "# open the repo, find a txt in json format\n",
    "# can open with java or c -> data exchange "
   ]
  },
  {
   "cell_type": "code",
   "execution_count": 11,
   "metadata": {
    "collapsed": false
   },
   "outputs": [
    {
     "data": {
      "text/plain": [
       "'{\"bob\": {\"address\": \"1 green street, NY\", \"name\": \"bob\", \"phone\": 23424234}, \"tom\": {\"address\": \"1 red street, NY\", \"name\": \"tom\", \"phone\": 98989898}}'"
      ]
     },
     "execution_count": 11,
     "metadata": {},
     "output_type": "execute_result"
    }
   ],
   "source": [
    "# read records\n",
    "# read the whole file in s, saved in variable s\n",
    "f = open(\"C:\\\\Users\\\\Shimeng Lin\\\\Desktop\\\\Fordham\\\\Spring 2017\\\\United Nations Cybersecurity Research Project\\\\book.txt\",\"r\")\n",
    "s = f.read()\n",
    "s # s is a string\n",
    "       \n",
    "       \n",
    "       "
   ]
  },
  {
   "cell_type": "code",
   "execution_count": 12,
   "metadata": {
    "collapsed": false
   },
   "outputs": [
    {
     "data": {
      "text/plain": [
       "{'bob': {'address': '1 green street, NY', 'name': 'bob', 'phone': 23424234},\n",
       " 'tom': {'address': '1 red street, NY', 'name': 'tom', 'phone': 98989898}}"
      ]
     },
     "execution_count": 12,
     "metadata": {},
     "output_type": "execute_result"
    }
   ],
   "source": [
    "# parse into json object\n",
    "# load string -> convert that string into a dict\n",
    "import json\n",
    "book = json.loads(s)\n",
    "book # book is a dict"
   ]
  },
  {
   "cell_type": "code",
   "execution_count": 16,
   "metadata": {
    "collapsed": false
   },
   "outputs": [
    {
     "data": {
      "text/plain": [
       "dict"
      ]
     },
     "execution_count": 16,
     "metadata": {},
     "output_type": "execute_result"
    }
   ],
   "source": [
    "# check type\n",
    "type(book)"
   ]
  },
  {
   "cell_type": "code",
   "execution_count": 17,
   "metadata": {
    "collapsed": false
   },
   "outputs": [
    {
     "data": {
      "text/plain": [
       "str"
      ]
     },
     "execution_count": 17,
     "metadata": {},
     "output_type": "execute_result"
    }
   ],
   "source": [
    "type(s)"
   ]
  },
  {
   "cell_type": "code",
   "execution_count": 18,
   "metadata": {
    "collapsed": false
   },
   "outputs": [
    {
     "data": {
      "text/plain": [
       "{'address': '1 green street, NY', 'name': 'bob', 'phone': 23424234}"
      ]
     },
     "execution_count": 18,
     "metadata": {},
     "output_type": "execute_result"
    }
   ],
   "source": [
    "# use keys\n",
    "book['bob']"
   ]
  },
  {
   "cell_type": "code",
   "execution_count": 19,
   "metadata": {
    "collapsed": false
   },
   "outputs": [
    {
     "data": {
      "text/plain": [
       "23424234"
      ]
     },
     "execution_count": 19,
     "metadata": {},
     "output_type": "execute_result"
    }
   ],
   "source": [
    "book['bob']['phone']"
   ]
  },
  {
   "cell_type": "code",
   "execution_count": 20,
   "metadata": {
    "collapsed": false
   },
   "outputs": [
    {
     "name": "stdout",
     "output_type": "stream",
     "text": [
      "{'name': 'bob', 'address': '1 green street, NY', 'phone': 23424234}\n",
      "{'name': 'tom', 'address': '1 red street, NY', 'phone': 98989898}\n"
     ]
    }
   ],
   "source": [
    "# go through all keys in dict one by one\n",
    "for person in book:\n",
    "    print(book[person])"
   ]
  }
 ],
 "metadata": {
  "anaconda-cloud": {},
  "kernelspec": {
   "display_name": "Python [conda root]",
   "language": "python",
   "name": "conda-root-py"
  },
  "language_info": {
   "codemirror_mode": {
    "name": "ipython",
    "version": 3
   },
   "file_extension": ".py",
   "mimetype": "text/x-python",
   "name": "python",
   "nbconvert_exporter": "python",
   "pygments_lexer": "ipython3",
   "version": "3.5.2"
  }
 },
 "nbformat": 4,
 "nbformat_minor": 1
}
