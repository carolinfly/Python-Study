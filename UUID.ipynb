{
 "cells": [
  {
   "cell_type": "code",
   "execution_count": 1,
   "metadata": {
    "collapsed": true
   },
   "outputs": [],
   "source": [
    "## uniqueness\n",
    "# unique id\n",
    "import uuid"
   ]
  },
  {
   "cell_type": "code",
   "execution_count": 7,
   "metadata": {
    "collapsed": false
   },
   "outputs": [],
   "source": [
    "class Item(object):\n",
    "    '''Base item class'''\n",
    "    \n",
    "    def __init__(self, name, value):\n",
    "        self.name = name\n",
    "        self.value = value\n",
    "        self.uid = uuid.uuid4()\n",
    "        \n",
    "    def __eq__(self, other):\n",
    "        attributes = ['value', 'name','uid']\n",
    "        comparisons = []\n",
    "        for attr in attributes:\n",
    "            self_attr = getattr(self, attr)\n",
    "            other_attr = getattr(other, attr, other)\n",
    "            comparisons.append(self_attr == other_attr)\n",
    "        comparison = all(comparisons)\n",
    "        return comparison\n",
    "    \n",
    "    def __str__(self):\n",
    "        return \"{}:{}\".format(self.name, self.value)\n",
    "    \n",
    "item01 = Item(\"sword\", 150)\n",
    "item02 = Item(\"sword\", 150)\n",
    "\n"
   ]
  },
  {
   "cell_type": "code",
   "execution_count": 8,
   "metadata": {
    "collapsed": false
   },
   "outputs": [
    {
     "name": "stdout",
     "output_type": "stream",
     "text": [
      "sword:150 == sword:150|False\n"
     ]
    }
   ],
   "source": [
    "print(\"{} == {}|{}\".format(item01, item02, item01==item02))"
   ]
  },
  {
   "cell_type": "markdown",
   "metadata": {},
   "source": [
    "# generate unique ID"
   ]
  },
  {
   "cell_type": "code",
   "execution_count": 9,
   "metadata": {
    "collapsed": true
   },
   "outputs": [],
   "source": [
    "# gen random char\n",
    "import uuid\n",
    "# 5 implementations"
   ]
  },
  {
   "cell_type": "code",
   "execution_count": 11,
   "metadata": {
    "collapsed": false
   },
   "outputs": [
    {
     "data": {
      "text/plain": [
       "UUID('8341394a-ab8d-4be4-b5db-d2fe4546af6f')"
      ]
     },
     "execution_count": 11,
     "metadata": {},
     "output_type": "execute_result"
    }
   ],
   "source": [
    "# function ()\n",
    "uuid.uuid4()\n",
    "# multiple databases which are indep, but share some \n",
    "# can merge records from multiple databases at once"
   ]
  },
  {
   "cell_type": "code",
   "execution_count": 13,
   "metadata": {
    "collapsed": false
   },
   "outputs": [],
   "source": [
    "# str(a)"
   ]
  }
 ],
 "metadata": {
  "kernelspec": {
   "display_name": "Python [conda root]",
   "language": "python",
   "name": "conda-root-py"
  },
  "language_info": {
   "codemirror_mode": {
    "name": "ipython",
    "version": 3
   },
   "file_extension": ".py",
   "mimetype": "text/x-python",
   "name": "python",
   "nbconvert_exporter": "python",
   "pygments_lexer": "ipython3",
   "version": "3.5.2"
  }
 },
 "nbformat": 4,
 "nbformat_minor": 1
}
