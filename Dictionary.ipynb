{
 "cells": [
  {
   "cell_type": "markdown",
   "metadata": {
    "collapsed": true
   },
   "source": [
    "# keys - single\n",
    "# values - list, func, ..\n",
    "\n",
    "# can referencec a dict in a dict"
   ]
  },
  {
   "cell_type": "code",
   "execution_count": 1,
   "metadata": {
    "collapsed": false
   },
   "outputs": [
    {
     "name": "stdout",
     "output_type": "stream",
     "text": [
      "{'Bob': 22, 'Jack': 15, 'Kevin': 17, 'Alice': 12}\n"
     ]
    }
   ],
   "source": [
    "exDict = {'Jack':15, 'Bob':22, 'Alice':12, 'Kevin':17}\n",
    "print(exDict)"
   ]
  },
  {
   "cell_type": "code",
   "execution_count": 2,
   "metadata": {
    "collapsed": false
   },
   "outputs": [
    {
     "name": "stdout",
     "output_type": "stream",
     "text": [
      "15\n"
     ]
    }
   ],
   "source": [
    "# how old is Jack?\n",
    "print exDict['Jack']"
   ]
  },
  {
   "cell_type": "code",
   "execution_count": 3,
   "metadata": {
    "collapsed": false
   },
   "outputs": [
    {
     "name": "stdout",
     "output_type": "stream",
     "text": [
      "{'Tim': 14, 'Bob': 22, 'Jack': 15, 'Kevin': 17, 'Alice': 12}\n"
     ]
    }
   ],
   "source": [
    "# add Tim - no order\n",
    "exDict['Tim']=14\n",
    "print exDict"
   ]
  },
  {
   "cell_type": "code",
   "execution_count": 5,
   "metadata": {
    "collapsed": false
   },
   "outputs": [
    {
     "name": "stdout",
     "output_type": "stream",
     "text": [
      "{'Tim': 15, 'Bob': 22, 'Jack': 15, 'Kevin': 17, 'Alice': 12}\n"
     ]
    }
   ],
   "source": [
    "# Tim turned 15\n",
    "# dict must have UNIQUE KEY\n",
    "exDict['Tim']=15\n",
    "print exDict"
   ]
  },
  {
   "cell_type": "code",
   "execution_count": 6,
   "metadata": {
    "collapsed": false
   },
   "outputs": [
    {
     "name": "stdout",
     "output_type": "stream",
     "text": [
      "{'Bob': 22, 'Jack': 15, 'Kevin': 17, 'Alice': 12}\n"
     ]
    }
   ],
   "source": [
    "# rm Tim - del key and value(s)\n",
    "del exDict['Tim']\n",
    "print exDict"
   ]
  },
  {
   "cell_type": "code",
   "execution_count": 7,
   "metadata": {
    "collapsed": false
   },
   "outputs": [
    {
     "name": "stdout",
     "output_type": "stream",
     "text": [
      "{'Bob': [22, 'brown'], 'Jack': [15, 'blonde'], 'Kevin': [17, 'red'], 'Alice': [12, 'black']}\n"
     ]
    }
   ],
   "source": [
    "# track age AND hair color\n",
    "exDict = {'Jack':[15,'blonde'], 'Bob':[22,'brown'], 'Alice':[12,'black'], 'Kevin':[17,'red']}\n",
    "print(exDict)"
   ]
  },
  {
   "cell_type": "code",
   "execution_count": 8,
   "metadata": {
    "collapsed": false
   },
   "outputs": [
    {
     "name": "stdout",
     "output_type": "stream",
     "text": [
      "[15, 'blonde']\n"
     ]
    }
   ],
   "source": [
    "print(exDict['Jack'])"
   ]
  },
  {
   "cell_type": "code",
   "execution_count": 9,
   "metadata": {
    "collapsed": false
   },
   "outputs": [
    {
     "name": "stdout",
     "output_type": "stream",
     "text": [
      "blonde\n"
     ]
    }
   ],
   "source": [
    "# only access hair color\n",
    "# Jack = func...\n",
    "print(exDict['Jack'][1])"
   ]
  }
 ],
 "metadata": {
  "anaconda-cloud": {},
  "kernelspec": {
   "display_name": "Python [conda root]",
   "language": "python",
   "name": "conda-root-py"
  },
  "language_info": {
   "codemirror_mode": {
    "name": "ipython",
    "version": 2
   },
   "file_extension": ".py",
   "mimetype": "text/x-python",
   "name": "python",
   "nbconvert_exporter": "python",
   "pygments_lexer": "ipython2",
   "version": "2.7.12"
  }
 },
 "nbformat": 4,
 "nbformat_minor": 1
}
