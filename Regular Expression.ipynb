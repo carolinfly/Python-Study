{
 "cells": [
  {
   "cell_type": "markdown",
   "metadata": {},
   "source": [
    "# re"
   ]
  },
  {
   "cell_type": "code",
   "execution_count": null,
   "metadata": {
    "collapsed": true
   },
   "outputs": [],
   "source": [
    "# script emails, phone numbers..\n",
    "# pass str of arg to apply str text\n",
    "# do scripting"
   ]
  },
  {
   "cell_type": "code",
   "execution_count": null,
   "metadata": {
    "collapsed": true
   },
   "outputs": [],
   "source": [
    "\"\"\" identifiers\n",
    "\\d any number\n",
    "\\D anything but a number\n",
    "\\s space\n",
    "\\S anything but a space\n",
    "\\w any char\n",
    "\\W anything but a char\n",
    ".  any char except a newline\n",
    "\\. a period\n",
    "\\b the white space around words\n",
    "\n",
    "\"\"\""
   ]
  },
  {
   "cell_type": "code",
   "execution_count": null,
   "metadata": {
    "collapsed": true
   },
   "outputs": [],
   "source": [
    "\"\"\"\n",
    "Modifiers: (any number, description)\n",
    "\n",
    "{1,3} we're expectiong 1-3 \\d{1-3}\n",
    "\n",
    "+ Match 1 or more\n",
    "? Match 0 or 1\n",
    "* Match 0 or more\n",
    "$ Match the end of a string\n",
    "^ Matching the beginning of a string\n",
    "| either or \\d{1-3}| \\w{5-6}\n",
    "[] range or \"variance\", [A-Z] [A-Za-z] [1-5a-qA\n",
    "{x} expecting \"x\" amount \n",
    "\n",
    "\"\"\""
   ]
  },
  {
   "cell_type": "code",
   "execution_count": null,
   "metadata": {
    "collapsed": true
   },
   "outputs": [],
   "source": [
    "\"\"\"\n",
    "White space char\n",
    "\n",
    "\\n new line\n",
    "\\s space\n",
    "\\t tab\n",
    "\n",
    "\\e escape\n",
    "\\f form feed\n",
    "\\r return char\n",
    "\n",
    "\"\"\""
   ]
  },
  {
   "cell_type": "code",
   "execution_count": null,
   "metadata": {
    "collapsed": true
   },
   "outputs": [],
   "source": []
  },
  {
   "cell_type": "code",
   "execution_count": 1,
   "metadata": {
    "collapsed": true
   },
   "outputs": [],
   "source": [
    "import re"
   ]
  },
  {
   "cell_type": "code",
   "execution_count": 3,
   "metadata": {
    "collapsed": true
   },
   "outputs": [],
   "source": [
    "exampleString = '''\n",
    "Jessica is 15 years old, and Daniel is 27 years old.\n",
    "Edward is 97, and his grandfather, Oscar, is 102.\n",
    "'''"
   ]
  },
  {
   "cell_type": "code",
   "execution_count": 8,
   "metadata": {
    "collapsed": false
   },
   "outputs": [],
   "source": [
    "## pull names and ages from the string\n",
    "ages = re.findall(r'\\d{1,3}', exampleString) # want 1-3 digits # regular expression\n",
    "names = re.findall(r'[A-Z][a-z]*', exampleString)"
   ]
  },
  {
   "cell_type": "code",
   "execution_count": 10,
   "metadata": {
    "collapsed": false
   },
   "outputs": [
    {
     "name": "stdout",
     "output_type": "stream",
     "text": [
      "['15', '27', '97', '102']\n"
     ]
    }
   ],
   "source": [
    "print(ages)"
   ]
  },
  {
   "cell_type": "code",
   "execution_count": 9,
   "metadata": {
    "collapsed": false
   },
   "outputs": [
    {
     "name": "stdout",
     "output_type": "stream",
     "text": [
      "['Jessica', 'Daniel', 'Edward', 'Oscar']\n"
     ]
    }
   ],
   "source": [
    "print(names)"
   ]
  },
  {
   "cell_type": "code",
   "execution_count": 12,
   "metadata": {
    "collapsed": false
   },
   "outputs": [
    {
     "name": "stdout",
     "output_type": "stream",
     "text": [
      "{'Jessica': '15', 'Oscar': '102', 'Edward': '97', 'Daniel': '27'}\n"
     ]
    }
   ],
   "source": [
    "# populate a dictionary\n",
    "ageDict = {}\n",
    "\n",
    "x = 0\n",
    "for eachName in names:\n",
    "    ageDict[eachName]= ages[x]\n",
    "    x+=1\n",
    "\n",
    "print(ageDict)"
   ]
  },
  {
   "cell_type": "code",
   "execution_count": null,
   "metadata": {
    "collapsed": true
   },
   "outputs": [],
   "source": []
  },
  {
   "cell_type": "code",
   "execution_count": 13,
   "metadata": {
    "collapsed": false
   },
   "outputs": [
    {
     "name": "stdout",
     "output_type": "stream",
     "text": [
      "['here', 'are', 'some', 'words']\n"
     ]
    },
    {
     "name": "stderr",
     "output_type": "stream",
     "text": [
      "C:\\Users\\Shimeng Lin\\Anaconda3\\lib\\re.py:203: FutureWarning: split() requires a non-empty pattern match.\n",
      "  return _compile(pattern, flags).split(string, maxsplit)\n"
     ]
    }
   ],
   "source": [
    "# \\s space\n",
    "# * any number, 0 or more\n",
    "import re\n",
    "# split in a list\n",
    "print(re.split(r\"\\s*\", \"here are some words\"))"
   ]
  },
  {
   "cell_type": "code",
   "execution_count": 14,
   "metadata": {
    "collapsed": false
   },
   "outputs": [
    {
     "name": "stdout",
     "output_type": "stream",
     "text": [
      "['here', ' ', 'are', ' ', 'some', ' ', 'words']\n"
     ]
    },
    {
     "name": "stderr",
     "output_type": "stream",
     "text": [
      "C:\\Users\\Shimeng Lin\\Anaconda3\\lib\\re.py:203: FutureWarning: split() requires a non-empty pattern match.\n",
      "  return _compile(pattern, flags).split(string, maxsplit)\n"
     ]
    }
   ],
   "source": [
    "# include space in the list\n",
    "print(re.split(r\"(\\s*)\", \"here are some words\"))"
   ]
  },
  {
   "cell_type": "code",
   "execution_count": 15,
   "metadata": {
    "collapsed": false
   },
   "outputs": [
    {
     "name": "stdout",
     "output_type": "stream",
     "text": [
      "['here are ', 's', 'ome word', 's', '']\n"
     ]
    },
    {
     "name": "stderr",
     "output_type": "stream",
     "text": [
      "C:\\Users\\Shimeng Lin\\Anaconda3\\lib\\re.py:203: FutureWarning: split() requires a non-empty pattern match.\n",
      "  return _compile(pattern, flags).split(string, maxsplit)\n"
     ]
    }
   ],
   "source": [
    "print(re.split(r\"(s*)\", \"here are some words\"))"
   ]
  },
  {
   "cell_type": "code",
   "execution_count": 18,
   "metadata": {
    "collapsed": false
   },
   "outputs": [
    {
     "name": "stdout",
     "output_type": "stream",
     "text": [
      "['j', 'o', '', ';won', 'onvp', '', 'noF']\n"
     ]
    }
   ],
   "source": [
    "# a through f\n",
    "# case sensitive\n",
    "print(re.split(r'[a-f]', 'jaofe;wonaonvpaenoF'))"
   ]
  },
  {
   "cell_type": "code",
   "execution_count": null,
   "metadata": {
    "collapsed": true
   },
   "outputs": [],
   "source": [
    "# add flags\n",
    "# re.I    non case sensitive, ignore casing\n",
    "# re.M    continuously\n",
    "\n",
    "# keep looking for char in each one\n",
    "print(re.split(r'[a-fA-F0-9p-q]', 'jaofe;wonaonvpaenoF',\n",
    "              re.I|re.M))"
   ]
  },
  {
   "cell_type": "code",
   "execution_count": 19,
   "metadata": {
    "collapsed": false
   },
   "outputs": [
    {
     "name": "stdout",
     "output_type": "stream",
     "text": [
      "['jao', ';wonaonvp', 'noF']\n"
     ]
    }
   ],
   "source": [
    "print(re.split(r'[a-f][a-f]', 'jaofe;wonaonvpaenoF',\n",
    "              re.I|re.M))"
   ]
  },
  {
   "cell_type": "code",
   "execution_count": 22,
   "metadata": {
    "collapsed": false
   },
   "outputs": [
    {
     "name": "stdout",
     "output_type": "stream",
     "text": [
      "['3', '2', '4']\n"
     ]
    }
   ],
   "source": [
    "# look for address(pattern)\n",
    "# \\d look for some digits == [0-9]\n",
    "# \\D everything but 0-0/digits, can be anything\n",
    "\n",
    "# split all digits and put in a list\n",
    "print(re.findall(r'\\d',\"ocinwe324 main st. asdvce\"))"
   ]
  },
  {
   "cell_type": "code",
   "execution_count": 23,
   "metadata": {
    "collapsed": false
   },
   "outputs": [
    {
     "name": "stdout",
     "output_type": "stream",
     "text": [
      "['324']\n"
     ]
    }
   ],
   "source": [
    "## determining the quantities\n",
    "\n",
    "\n",
    "\"\"\"\n",
    "* = 0 or more...\n",
    "+ = 1 or more\n",
    "? = 0 or 1 of ...\n",
    "{5} = exact number of ...\n",
    "{1,60} = range on number of ...\n",
    "\n",
    "\"\"\"\n",
    "# {} range, exact some amount, min of 1 and max of 5 digits\n",
    "print(re.findall(r'\\d{1,5}',\"ocinwe324 main st. asdvce\"))"
   ]
  },
  {
   "cell_type": "code",
   "execution_count": 24,
   "metadata": {
    "collapsed": false
   },
   "outputs": [
    {
     "name": "stdout",
     "output_type": "stream",
     "text": [
      "['324 main st.']\n"
     ]
    }
   ],
   "source": [
    "# \\w  number or letter, ie, 5th st or main st\n",
    "\n",
    "\"\"\"\n",
    "\\. = regular period(.)\n",
    ". = Any char but newline (\\n)\n",
    "\"\"\"\n",
    "\n",
    "\"\"\"\n",
    "+ = 1 or more\n",
    "\\w = alphanumeric\n",
    "\\s = Space\n",
    "{1,70} = Range of...\n",
    "\"\"\"\n",
    "\n",
    "print(re.findall(r'\\d{1,5}\\s\\w+\\s\\w+\\.',\"ocinwe324 main st. asdvce\"))"
   ]
  },
  {
   "cell_type": "markdown",
   "metadata": {},
   "source": [
    "# practical example"
   ]
  },
  {
   "cell_type": "code",
   "execution_count": 26,
   "metadata": {
    "collapsed": false
   },
   "outputs": [],
   "source": [
    "import re, urllib"
   ]
  },
  {
   "cell_type": "code",
   "execution_count": 27,
   "metadata": {
    "collapsed": true
   },
   "outputs": [],
   "source": [
    "try:\n",
    "    import urllib.request\n",
    "except:\n",
    "    pass"
   ]
  },
  {
   "cell_type": "code",
   "execution_count": 28,
   "metadata": {
    "collapsed": true
   },
   "outputs": [],
   "source": [
    "# websites that we will be visiting\n",
    "sites = 'google yahoo cnn msn'.split()"
   ]
  },
  {
   "cell_type": "code",
   "execution_count": 34,
   "metadata": {
    "collapsed": false
   },
   "outputs": [
    {
     "name": "stdout",
     "output_type": "stream",
     "text": [
      "Searching:google\n",
      "<title>Google</title>\n",
      "Searching:yahoo\n",
      "<title>Yahoo</title>\n",
      "Searching:cnn\n",
      "<title>CNN - Breaking News, Latest News and Videos</title>\n",
      "Searching:msn\n",
      "<title>MSN.com - Hotmail, Outlook, Skype, Bing, Latest News, Photos &amp; Videos</title>\n"
     ]
    }
   ],
   "source": [
    "for s in sites: # go through each of the sites\n",
    "    print('Searching:' + s)\n",
    "    try: # try open up the sites\n",
    "        u = urllib.urlopen('http://' + s + '.com') # urlopen function\n",
    "    except:\n",
    "        u = urllib.request.urlopen('http://' + s + '.com')\n",
    "        # read the text file\n",
    "    text = u.read()\n",
    "    # .* anything in btw\n",
    "    title = re.findall(r'<title>+.*</title>+',\n",
    "                  str(text), re.I|re.M)\n",
    "    print(title[0])"
   ]
  },
  {
   "cell_type": "code",
   "execution_count": null,
   "metadata": {
    "collapsed": true
   },
   "outputs": [],
   "source": []
  }
 ],
 "metadata": {
  "anaconda-cloud": {},
  "kernelspec": {
   "display_name": "Python [conda root]",
   "language": "python",
   "name": "conda-root-py"
  },
  "language_info": {
   "codemirror_mode": {
    "name": "ipython",
    "version": 3
   },
   "file_extension": ".py",
   "mimetype": "text/x-python",
   "name": "python",
   "nbconvert_exporter": "python",
   "pygments_lexer": "ipython3",
   "version": "3.5.2"
  }
 },
 "nbformat": 4,
 "nbformat_minor": 1
}
